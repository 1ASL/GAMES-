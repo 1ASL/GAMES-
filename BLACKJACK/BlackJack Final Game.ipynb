{
 "cells": [
  {
   "cell_type": "markdown",
   "id": "f5a744bc",
   "metadata": {},
   "source": [
    "# BLACKJACK CARD COUNTER "
   ]
  },
  {
   "cell_type": "code",
   "execution_count": 1,
   "id": "7963cbb2",
   "metadata": {},
   "outputs": [],
   "source": [
    "import pandas as pd\n",
    "import random\n",
    "import numpy as np"
   ]
  },
  {
   "cell_type": "code",
   "execution_count": 2,
   "id": "10ad12e2",
   "metadata": {},
   "outputs": [],
   "source": [
    " \n",
    "qty = 1\n",
    "qty = qty * 4\n",
    "data = { '2' : [2,1,qty] , '3' : [3,1,qty]\n",
    "       , '4' : [4,1,qty], '5' : [5,1,qty], '6' : [6,1,qty]\n",
    "       , '7' : [7,0,qty], '8' : [8,0,qty], '9' : [9,0,qty]\n",
    "       , '10' : [10,-1,qty], 'J' : [10,-1,qty], 'Q' : [10,-1,qty]\n",
    "        , 'K' : [10,-1,qty] , 'A' : [1,-1 , qty]\n",
    "       }"
   ]
  },
  {
   "cell_type": "code",
   "execution_count": 3,
   "id": "01c54d0e",
   "metadata": {},
   "outputs": [
    {
     "data": {
      "text/html": [
       "<div>\n",
       "<style scoped>\n",
       "    .dataframe tbody tr th:only-of-type {\n",
       "        vertical-align: middle;\n",
       "    }\n",
       "\n",
       "    .dataframe tbody tr th {\n",
       "        vertical-align: top;\n",
       "    }\n",
       "\n",
       "    .dataframe thead th {\n",
       "        text-align: right;\n",
       "    }\n",
       "</style>\n",
       "<table border=\"1\" class=\"dataframe\">\n",
       "  <thead>\n",
       "    <tr style=\"text-align: right;\">\n",
       "      <th></th>\n",
       "      <th>2</th>\n",
       "      <th>3</th>\n",
       "      <th>4</th>\n",
       "      <th>5</th>\n",
       "      <th>6</th>\n",
       "      <th>7</th>\n",
       "      <th>8</th>\n",
       "      <th>9</th>\n",
       "      <th>10</th>\n",
       "      <th>J</th>\n",
       "      <th>Q</th>\n",
       "      <th>K</th>\n",
       "      <th>A</th>\n",
       "    </tr>\n",
       "  </thead>\n",
       "  <tbody>\n",
       "    <tr>\n",
       "      <th>POINTS</th>\n",
       "      <td>2</td>\n",
       "      <td>3</td>\n",
       "      <td>4</td>\n",
       "      <td>5</td>\n",
       "      <td>6</td>\n",
       "      <td>7</td>\n",
       "      <td>8</td>\n",
       "      <td>9</td>\n",
       "      <td>10</td>\n",
       "      <td>10</td>\n",
       "      <td>10</td>\n",
       "      <td>10</td>\n",
       "      <td>1</td>\n",
       "    </tr>\n",
       "    <tr>\n",
       "      <th>COUNT VALUE</th>\n",
       "      <td>1</td>\n",
       "      <td>1</td>\n",
       "      <td>1</td>\n",
       "      <td>1</td>\n",
       "      <td>1</td>\n",
       "      <td>0</td>\n",
       "      <td>0</td>\n",
       "      <td>0</td>\n",
       "      <td>-1</td>\n",
       "      <td>-1</td>\n",
       "      <td>-1</td>\n",
       "      <td>-1</td>\n",
       "      <td>-1</td>\n",
       "    </tr>\n",
       "    <tr>\n",
       "      <th>QTY</th>\n",
       "      <td>4</td>\n",
       "      <td>4</td>\n",
       "      <td>4</td>\n",
       "      <td>4</td>\n",
       "      <td>4</td>\n",
       "      <td>4</td>\n",
       "      <td>4</td>\n",
       "      <td>4</td>\n",
       "      <td>4</td>\n",
       "      <td>4</td>\n",
       "      <td>4</td>\n",
       "      <td>4</td>\n",
       "      <td>4</td>\n",
       "    </tr>\n",
       "  </tbody>\n",
       "</table>\n",
       "</div>"
      ],
      "text/plain": [
       "             2  3  4  5  6  7  8  9  10   J   Q   K  A\n",
       "POINTS       2  3  4  5  6  7  8  9  10  10  10  10  1\n",
       "COUNT VALUE  1  1  1  1  1  0  0  0  -1  -1  -1  -1 -1\n",
       "QTY          4  4  4  4  4  4  4  4   4   4   4   4  4"
      ]
     },
     "execution_count": 3,
     "metadata": {},
     "output_type": "execute_result"
    }
   ],
   "source": [
    "card_data = pd.DataFrame(data , index = ['POINTS' , 'COUNT VALUE' , 'QTY'])\n",
    "card_data"
   ]
  },
  {
   "cell_type": "code",
   "execution_count": 43,
   "id": "457c0c0c",
   "metadata": {},
   "outputs": [],
   "source": [
    "count = 0\n",
    "def deal_card() : \n",
    "    \n",
    "        while True :\n",
    "            card =random.choice (card_data.keys())\n",
    "            qty = card_data[card]['QTY']\n",
    "            if qty > 0:\n",
    "                card_dealt = card\n",
    "                card_data[card]['QTY'] = qty - 1\n",
    "                #count = count + card_data[card]['COUNT VALUE']\n",
    "                #print('card dealt = ' + str(card_dealt))\n",
    "               \n",
    "                break\n",
    "            else : \n",
    "                continue\n",
    "        #count = count + card_data[card]['COUNT VALUE']\n",
    "        return (card_dealt)\n",
    "\n",
    "            "
   ]
  },
  {
   "cell_type": "code",
   "execution_count": 44,
   "id": "0cd0d89d",
   "metadata": {},
   "outputs": [],
   "source": [
    "def p_card_sum(p_card_list):\n",
    "    ace = 1\n",
    "    p_sum =0 \n",
    "    #print (p_card_list)\n",
    "    for i in p_card_list:\n",
    "        p_sum = p_sum + card_data[i]['POINTS']\n",
    "        \n",
    "        if (ace ==1 and i == 'A'):\n",
    "            p_sum = np.array([p_sum , p_sum + 10])\n",
    "            ace = 0\n",
    "        else :\n",
    "            p_sum = p_sum \n",
    "    return p_sum\n",
    "            \n",
    "    "
   ]
  },
  {
   "cell_type": "code",
   "execution_count": 7,
   "id": "1d6dc2dc",
   "metadata": {},
   "outputs": [
    {
     "data": {
      "text/plain": [
       "array([2, 3])"
      ]
     },
     "execution_count": 7,
     "metadata": {},
     "output_type": "execute_result"
    }
   ],
   "source": [
    "dummy = np.array([2,3])\n",
    "dummy "
   ]
  },
  {
   "cell_type": "code",
   "execution_count": 78,
   "id": "8aff652b",
   "metadata": {},
   "outputs": [
    {
     "name": "stdout",
     "output_type": "stream",
     "text": [
      "-------------------------------------------------\n",
      "\n",
      "START A NEW GAME ? y\n",
      "\n",
      "DEALER ---->  A  AND xxx\n",
      "YOU ---->  ['J', 'Q']\n",
      "TOTAL SUM =  20\n",
      "WHAT WOULD YOU LIKE TO DO - h FOR HIT s FOR STAY s\n",
      "\n",
      "\n",
      "DEALER ---->  ['A', '5']\n",
      "DEALER SUM ---> [ 6 16]\n",
      "DEALER ---->  ['A', '5', '2']\n",
      "DEALER SUM --->  18\n",
      "YOU WIN\n",
      "-------------------------------------------------\n",
      "\n",
      "START A NEW GAME ? y\n",
      "\n",
      "DEALER ---->  5  AND xxx\n",
      "YOU ---->  ['8', 'J']\n",
      "TOTAL SUM =  18\n",
      "WHAT WOULD YOU LIKE TO DO - h FOR HIT s FOR STAY s\n",
      "\n",
      "\n",
      "DEALER ---->  ['5', '5']\n",
      "DEALER SUM --->  10\n",
      "DEALER ---->  ['5', '5', '7']\n",
      "DEALER SUM --->  17\n",
      "YOU WIN\n",
      "-------------------------------------------------\n",
      "\n",
      "START A NEW GAME ? n\n"
     ]
    }
   ],
   "source": [
    "win_count = 0 \n",
    "lose_count = 0 \n",
    "while True :    \n",
    "    \n",
    "    print (\"-------------------------------------------------\")\n",
    "    start = input ( \"\\nSTART A NEW GAME ? \")\n",
    "    card_data = pd.DataFrame(data , index = ['POINTS' , 'COUNT VALUE' , 'QTY'])\n",
    "    #if (sum(list(card_data.iloc[2])) < 10):\n",
    "     #   card_data = pd.DataFrame(data , index = ['POINTS' , 'COUNT VALUE' , 'QTY'])\n",
    "    \n",
    "    if (start == 'Y' or start == \"y\"):\n",
    "        p_sum =0 \n",
    "        d_sum = 0\n",
    "        d_card_1 = deal_card()\n",
    "        d_card_2 = deal_card()\n",
    "        d_cards = [d_card_1,d_card_2]\n",
    "        \n",
    "        p_card_1 = deal_card()\n",
    "        p_card_2 = deal_card()\n",
    "        p_cards = [p_card_1 , p_card_2]\n",
    "        d_sum = p_card_sum(d_cards)\n",
    "        p_sum = p_card_sum (p_cards)\n",
    "            \n",
    "        \n",
    "        print ('\\nDEALER ----> ',d_card_1, \" AND xxx\" )\n",
    "        print (\"YOU ----> \", p_cards )\n",
    "        print(\"TOTAL SUM = \" ,p_sum)\n",
    "    else:\n",
    "        break\n",
    "\n",
    "    while True :\n",
    "        wish = input (\"WHAT WOULD YOU LIKE TO DO - h FOR HIT s FOR STAY \")\n",
    "        print (\"\\n\")\n",
    "        if wish == 'h':\n",
    "            p_card_new =deal_card()\n",
    "            p_cards.append(p_card_new)\n",
    "            p_sum = p_card_sum(p_cards)\n",
    "            \n",
    "            if type(p_sum) == type(dummy):\n",
    "                print(\"YOU GOT \" , p_card_new)\n",
    "                if p_sum[1] > 21  :\n",
    "                    p_sum = p_sum[0]\n",
    "        \n",
    "            \n",
    "            print ('DEALER ----> ',d_cards[0], \" AND xxx\" )\n",
    "            print (\"YOU ----> \" ,p_cards)\n",
    "            print(\"YOUR TOTAL = \" ,p_sum)\n",
    "            \n",
    "            if type(p_sum) == np.int64:\n",
    "                if p_sum > 21 :\n",
    "                    print (\"BUST - YOU LOSE\")\n",
    "                    result = 0\n",
    "                    break\n",
    "\n",
    "        if wish == 's':\n",
    "            \n",
    "            while True : \n",
    "                d_sum = p_card_sum(d_cards)\n",
    "\n",
    "                print ('DEALER ----> ',d_cards )\n",
    "                if type(d_sum) == type(dummy):\n",
    "                    if (d_sum[1] >= 17 and d_sum[1] <= 21):\n",
    "                        d_sum = d_sum[1]\n",
    "                        break\n",
    "                    elif (d_sum[1] < 17):\n",
    "                        d_card_new = deal_card()\n",
    "                        d_cards.append(d_card_new)\n",
    "                        print (\"DEALER SUM --->\", d_sum)\n",
    "                    elif (d_sum[1]>21):\n",
    "                        d_card_new = deal_card()\n",
    "                        d_cards.append(d_card_new)\n",
    "                        d_sum = p_card_sum(d_cards)\n",
    "                        d_sum = d_sum[0]\n",
    "                        print (\"DEALER CARDS --->\", d_cards)\n",
    "                        print (\"DEALER SUM --->  \", d_sum)\n",
    "                \n",
    "                if (type(d_sum) == np.int64):\n",
    "                    if d_sum < 17:\n",
    "                        d_card_new = deal_card()\n",
    "                        d_cards.append(d_card_new)\n",
    "                        print (\"DEALER SUM ---> \", d_sum)\n",
    "                    elif (d_sum >= 17 and d_sum <=21):\n",
    "                        break\n",
    "                    elif (d_sum >21):\n",
    "                        \n",
    "                        break\n",
    "                        \n",
    "\n",
    "                \n",
    "            print (\"DEALER SUM ---> \", d_sum)\n",
    "            break\n",
    "                    \n",
    "        \n",
    "    if type(p_sum) == type(dummy):\n",
    "        p_sum = p_sum[0]\n",
    "\n",
    "    if (p_sum <22 and d_sum<22):\n",
    "        if (p_sum > d_sum):\n",
    "            print (\"YOU WIN\")\n",
    "            result  =1\n",
    "        if (p_sum < d_sum):\n",
    "            print(\"YOU LOSE\")\n",
    "            result = 0\n",
    "        if (p_sum == d_sum):\n",
    "            print (\"CARD PUSHED\")\n",
    "            result = 2\n",
    "    \n",
    "    if (d_sum > 21):\n",
    "        print (\"YOU WIN - DEALER BUST \")\n",
    "        result = 1\n",
    "    \n",
    "    if result == 1:\n",
    "        win_count = win_count + 1\n",
    "    if result == 0:\n",
    "        lose_count= lose_count + 1\n",
    "\n",
    "    "
   ]
  },
  {
   "cell_type": "code",
   "execution_count": 77,
   "id": "7b0fbc27",
   "metadata": {},
   "outputs": [
    {
     "name": "stdout",
     "output_type": "stream",
     "text": [
      "w =  1\n",
      "L =  2\n"
     ]
    }
   ],
   "source": [
    "print (\"w = \", win_count)\n",
    "print(\"L = \",lose_count)"
   ]
  },
  {
   "cell_type": "code",
   "execution_count": 62,
   "id": "6a42c4d0",
   "metadata": {},
   "outputs": [
    {
     "data": {
      "text/plain": [
       "numpy.int64"
      ]
     },
     "execution_count": 62,
     "metadata": {},
     "output_type": "execute_result"
    }
   ],
   "source": [
    "type(d_sum)"
   ]
  },
  {
   "cell_type": "code",
   "execution_count": 73,
   "id": "92552618",
   "metadata": {},
   "outputs": [
    {
     "data": {
      "text/plain": [
       "['A', '2', '3', 'J', '8']"
      ]
     },
     "execution_count": 73,
     "metadata": {},
     "output_type": "execute_result"
    }
   ],
   "source": [
    "d_cards"
   ]
  },
  {
   "cell_type": "code",
   "execution_count": 64,
   "id": "b7c1e860",
   "metadata": {},
   "outputs": [
    {
     "data": {
      "text/plain": [
       "numpy.int32"
      ]
     },
     "execution_count": 64,
     "metadata": {},
     "output_type": "execute_result"
    }
   ],
   "source": [
    "type(dummy[1])"
   ]
  },
  {
   "cell_type": "code",
   "execution_count": null,
   "id": "1d941af1",
   "metadata": {},
   "outputs": [],
   "source": []
  }
 ],
 "metadata": {
  "kernelspec": {
   "display_name": "Python 3 (ipykernel)",
   "language": "python",
   "name": "python3"
  },
  "language_info": {
   "codemirror_mode": {
    "name": "ipython",
    "version": 3
   },
   "file_extension": ".py",
   "mimetype": "text/x-python",
   "name": "python",
   "nbconvert_exporter": "python",
   "pygments_lexer": "ipython3",
   "version": "3.9.12"
  }
 },
 "nbformat": 4,
 "nbformat_minor": 5
}
